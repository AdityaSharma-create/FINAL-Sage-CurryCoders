{
 "cells": [
  {
   "cell_type": "code",
   "execution_count": 1,
   "metadata": {},
   "outputs": [],
   "source": [
    "from sklearn.feature_extraction.text import TfidfVectorizer\n",
    "from sklearn.metrics.pairwise import cosine_similarity\n",
    "import numpy as np"
   ]
  },
  {
   "cell_type": "code",
   "execution_count": 2,
   "metadata": {},
   "outputs": [],
   "source": [
    "user_inputs = [\n",
    "    \"i love programming and building innovative solutions.\",\n",
    "    \"programming interests me, and I enjoy creating new things.\"]\n",
    "\n",
    "\n",
    "mentor_profiles = [\n",
    "    \"Experienced in software development with a focus on Python and Java.\",\n",
    "    \"Background in career coaching and professional development.\",\n",
    "    \"Expert in data science and machine learning with industry experience.\",\n",
    "    \"Skilled in project management and team leadership.\"\n",
    "]"
   ]
  },
  {
   "cell_type": "code",
   "execution_count": 3,
   "metadata": {},
   "outputs": [],
   "source": [
    "def recommend_mentors(user_inputs, mentor_profiles):\n",
    "    all_texts = user_inputs + mentor_profiles\n",
    "    vectorizer = TfidfVectorizer()\n",
    "    tfidf_matrix = vectorizer.fit_transform(all_texts)\n",
    "    \n",
    "    user_tfidf_matrix = tfidf_matrix[:len(user_inputs)]\n",
    "    mentor_tfidf_matrix = tfidf_matrix[len(user_inputs):]\n",
    "    \n",
    "    similarity_scores = cosine_similarity(user_tfidf_matrix, mentor_tfidf_matrix)\n",
    "    \n",
    "    recommendations = []\n",
    "    for i, user_scores in enumerate(similarity_scores):\n",
    "        best_match_idx = np.argmax(user_scores)\n",
    "        best_score = user_scores[best_match_idx]\n",
    "        recommendations.append({\n",
    "            'user_index': i,\n",
    "            'mentor_index': best_match_idx,\n",
    "            'score': best_score\n",
    "        })\n",
    "    \n",
    "    return recommendations"
   ]
  },
  {
   "cell_type": "code",
   "execution_count": 4,
   "metadata": {},
   "outputs": [],
   "source": [
    "recommendations = recommend_mentors(user_inputs, mentor_profiles)"
   ]
  },
  {
   "cell_type": "code",
   "execution_count": 5,
   "metadata": {},
   "outputs": [
    {
     "name": "stdout",
     "output_type": "stream",
     "text": [
      "User 1 is best matched with Mentor 3 with a score of 0.11\n",
      "User 2 is best matched with Mentor 2 with a score of 0.13\n"
     ]
    }
   ],
   "source": [
    "# Print recommendations\n",
    "for rec in recommendations:\n",
    "    print(f\"User {rec['user_index'] + 1} is best matched with Mentor {rec['mentor_index'] + 1} with a score of {rec['score']:.2f}\")"
   ]
  }
 ],
 "metadata": {
  "kernelspec": {
   "display_name": "Python 3",
   "language": "python",
   "name": "python3"
  },
  "language_info": {
   "codemirror_mode": {
    "name": "ipython",
    "version": 3
   },
   "file_extension": ".py",
   "mimetype": "text/x-python",
   "name": "python",
   "nbconvert_exporter": "python",
   "pygments_lexer": "ipython3",
   "version": "3.9.6"
  }
 },
 "nbformat": 4,
 "nbformat_minor": 2
}
