{
 "cells": [
  {
   "cell_type": "code",
   "execution_count": 1,
   "metadata": {},
   "outputs": [],
   "source": [
    "import pandas as pd "
   ]
  },
  {
   "cell_type": "code",
   "execution_count": 2,
   "metadata": {},
   "outputs": [],
   "source": [
    "data = {'Type': ['mentor', 'mentee'],\n",
    "        'Name' : ['varun', 'aditya'],\n",
    "        'interests/skills': ['coding', 'coding'],\n",
    "        'field': ['network engineering', 'network engineering'],\n",
    "        'location': ['virtual', 'virtual'],\n",
    "        'language': ['english', 'english'],\n",
    "        'challenges/expertise': ['interview', 'interview'],\n",
    "        'supportstyle' : ['industry insights', 'industry insights'],\n",
    "        'priceRange' : ['20-30$', '20-30$'], \n",
    "        'cosinesimilarity':[0.11, 0.11]\n",
    "        }\n",
    "\n",
    "df = pd.DataFrame(data)\n",
    "\n",
    "df.to_csv('sample_db.csv')\n"
   ]
  }
 ],
 "metadata": {
  "kernelspec": {
   "display_name": "Python 3",
   "language": "python",
   "name": "python3"
  },
  "language_info": {
   "codemirror_mode": {
    "name": "ipython",
    "version": 3
   },
   "file_extension": ".py",
   "mimetype": "text/x-python",
   "name": "python",
   "nbconvert_exporter": "python",
   "pygments_lexer": "ipython3",
   "version": "3.9.6"
  }
 },
 "nbformat": 4,
 "nbformat_minor": 2
}
