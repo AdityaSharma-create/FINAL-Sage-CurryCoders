{
 "cells": [
  {
   "cell_type": "code",
   "execution_count": 1,
   "metadata": {},
   "outputs": [
    {
     "name": "stderr",
     "output_type": "stream",
     "text": [
      "[nltk_data] Downloading package stopwords to\n",
      "[nltk_data]     /Users/varuniyer/nltk_data...\n",
      "[nltk_data]   Package stopwords is already up-to-date!\n"
     ]
    },
    {
     "name": "stdout",
     "output_type": "stream",
     "text": [
      "mentor features:\n",
      "{'keywords': ['love', 'programming', 'build', 'innovative', 'solution'], 'entities': [], 'themes': ['innovative', 'build', 'solution', 'programming', 'love'], 'skills': ['programming'], 'sentiment': 'positive'}\n",
      "mentee features:\n",
      "{'keywords': ['programming', 'interest', 'enjoy', 'create', 'new', 'thing'], 'entities': [], 'themes': ['enjoy', 'interest', 'create', 'thing', 'programming', 'new'], 'skills': ['programming'], 'sentiment': 'positive'}\n"
     ]
    }
   ],
   "source": [
    "import spacy\n",
    "import nltk\n",
    "from nltk.corpus import stopwords\n",
    "import string\n",
    "\n",
    "nltk.download('stopwords')\n",
    "\n",
    "nlp = spacy.load(\"en_core_web_sm\")\n",
    "\n",
    "def extract_features(bio):\n",
    "    text = bio.lower()\n",
    "    \n",
    "    text = text.translate(str.maketrans('', '', string.punctuation))\n",
    "\n",
    "    tokens = nltk.word_tokenize(text)\n",
    "\n",
    "    stop_words = set(stopwords.words('english'))\n",
    "    tokens = [word for word in tokens if word not in stop_words]\n",
    "    \n",
    "    lemmatized_tokens = [nlp(word)[0].lemma_ for word in tokens]\n",
    "    \n",
    "    doc = nlp(bio)\n",
    "    entities = [(ent.text, ent.label_) for ent in doc.ents]\n",
    "    \n",
    "    themes = set(lemmatized_tokens)\n",
    "    \n",
    "    skills = set(lemmatized_tokens).intersection({'programming', 'coding', 'building', 'creating', 'innovating'})\n",
    "    \n",
    "    return {\n",
    "        'keywords': lemmatized_tokens,\n",
    "        'entities': entities,\n",
    "        'themes': list(themes),\n",
    "        'skills': list(skills),\n",
    "    }\n",
    "\n",
    "\n",
    "mentor_bio = \"i love programming and building innovative solutions.\"\n",
    "mentee_bio = \"programming interests me, and I enjoy creating new things.\"\n",
    "\n",
    "mentor_features = extract_features(mentor_bio)\n",
    "mentee_features = extract_features(mentee_bio)\n",
    "\n",
    "print(\"mentor features:\")\n",
    "print(mentor_features)\n",
    "print(\"mentee features:\")\n",
    "print(mentee_features)"
   ]
  }
 ],
 "metadata": {
  "kernelspec": {
   "display_name": "Python 3",
   "language": "python",
   "name": "python3"
  },
  "language_info": {
   "codemirror_mode": {
    "name": "ipython",
    "version": 3
   },
   "file_extension": ".py",
   "mimetype": "text/x-python",
   "name": "python",
   "nbconvert_exporter": "python",
   "pygments_lexer": "ipython3",
   "version": "3.9.6"
  }
 },
 "nbformat": 4,
 "nbformat_minor": 2
}
