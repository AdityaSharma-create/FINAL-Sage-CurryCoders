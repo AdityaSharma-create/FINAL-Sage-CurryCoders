{
 "cells": [
  {
   "cell_type": "code",
   "execution_count": 2,
   "metadata": {},
   "outputs": [
    {
     "name": "stdout",
     "output_type": "stream",
     "text": [
      "Similarity Score: 100.00\n"
     ]
    },
    {
     "name": "stderr",
     "output_type": "stream",
     "text": [
      "/Users/varuniyer/Library/Python/3.9/lib/python/site-packages/fuzzywuzzy/fuzz.py:11: UserWarning: Using slow pure-python SequenceMatcher. Install python-Levenshtein to remove this warning\n",
      "  warnings.warn('Using slow pure-python SequenceMatcher. Install python-Levenshtein to remove this warning')\n"
     ]
    }
   ],
   "source": [
    "import pandas as pd\n",
    "from sklearn.feature_extraction.text import TfidfVectorizer\n",
    "from fuzzywuzzy import fuzz\n",
    "import re\n",
    "\n",
    "csv_file_path = \"/Users/varuniyer/synthacks '24/sample_db.csv\"\n",
    "\n",
    "df = pd.read_csv(csv_file_path)\n",
    "\n",
    "df['bio'] = df[['interests/skills', 'field', 'location', 'language', 'challenges/expertise', 'supportstyle', 'priceRange']].agg(' '.join, axis=1)\n",
    "\n",
    "def preprocess_text(text):\n",
    "    text = text.lower()  \n",
    "    text = re.sub(r'\\d+', '', text)  \n",
    "    text = re.sub(r'[^\\w\\s]', '', text)  \n",
    "    text = text.strip()  \n",
    "    return text\n",
    "\n",
    "df['bio'] = df['bio'].apply(preprocess_text)\n",
    "\n",
    "mentor_bio = df[df['Type'] == 'mentor']['bio'].values[0]\n",
    "mentee_bio = df[df['Type'] == 'mentee']['bio'].values[0]\n",
    "\n",
    "similarity_score = fuzz.ratio(mentor_bio, mentee_bio)\n",
    "print(f\"similarity Score: {similarity_score:.2f}\")\n"
   ]
  }
 ],
 "metadata": {
  "kernelspec": {
   "display_name": "Python 3",
   "language": "python",
   "name": "python3"
  },
  "language_info": {
   "codemirror_mode": {
    "name": "ipython",
    "version": 3
   },
   "file_extension": ".py",
   "mimetype": "text/x-python",
   "name": "python",
   "nbconvert_exporter": "python",
   "pygments_lexer": "ipython3",
   "version": "3.9.6"
  }
 },
 "nbformat": 4,
 "nbformat_minor": 2
}
